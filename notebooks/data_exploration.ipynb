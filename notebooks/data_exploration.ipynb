{
 "cells": [
  {
   "cell_type": "code",
   "execution_count": null,
   "metadata": {},
   "outputs": [],
   "source": [
    "# Data Exploration Notebook\n",
    "\n",
    "'''This notebook is used for exploring the dataset to identify trends, patterns, and any preprocessing requirements.'''\n",
    "\n",
    "\n",
    "### Imports and Loading Data\n",
    "\n",
    "import pandas as pd\n",
    "import matplotlib.pyplot as plt\n",
    "\n",
    "# Load data\n",
    "data_path = '../data/raw/indexProcessed.csv'\n",
    "df = pd.read_csv(data_path)\n",
    "\n",
    "# Display basic info\n",
    "df.head()\n",
    "df.info()\n"
   ]
  },
  {
   "cell_type": "code",
   "execution_count": null,
   "metadata": {},
   "outputs": [],
   "source": []
  },
  {
   "cell_type": "code",
   "execution_count": null,
   "metadata": {},
   "outputs": [],
   "source": [
    "# Convert Date column to datetime\n",
    "df['Date'] = pd.to_datetime(df['Date'])\n",
    "\n",
    "# Plot Closing Prices\n",
    "plt.figure(figsize=(12, 6))\n",
    "plt.plot(df['Date'], df['CloseUSD'], label='Close Price (USD)')\n",
    "plt.title('Stock Price Over Time')\n",
    "plt.xlabel('Date')\n",
    "plt.ylabel('Price (USD)')\n",
    "plt.legend()\n",
    "plt.show()\n"
   ]
  },
  {
   "cell_type": "code",
   "execution_count": null,
   "metadata": {},
   "outputs": [],
   "source": [
    "# Summary statistics\n",
    "df['CloseUSD'].describe()\n"
   ]
  },
  {
   "cell_type": "code",
   "execution_count": null,
   "metadata": {},
   "outputs": [],
   "source": [
    "# Check for nulls\n",
    "df.isnull().sum()\n"
   ]
  },
  {
   "cell_type": "code",
   "execution_count": null,
   "metadata": {},
   "outputs": [],
   "source": [
    "\n",
    "'''---\n",
    "\n",
    "### **2. `model_analysis.ipynb`**\n",
    "```markdown\n",
    "# Model Analysis Notebook\n",
    "\n",
    "This notebook is used for analyzing the performance of the trained model.\n",
    "\n",
    "---\n",
    "'''\n",
    "### Imports and Loading the Model\n",
    "\n",
    "import torch\n",
    "from model import LSTMModel\n",
    "from data_loader import load_and_preprocess_data\n",
    "\n",
    "# Load model\n",
    "model = LSTMModel()\n",
    "model.load_state_dict(torch.load('../models/saved/stock_lstm_model.pth'))\n",
    "model.eval()\n"
   ]
  },
  {
   "cell_type": "code",
   "execution_count": null,
   "metadata": {},
   "outputs": [],
   "source": [
    "import numpy as np\n",
    "import matplotlib.pyplot as plt\n",
    "\n",
    "_, _, test_dataset, scaler = load_and_preprocess_data('../data/raw/indexProcessed.csv')\n",
    "test_data = [scaler.inverse_transform([[x]])[0][0] for x in test_dataset.data]\n",
    "\n",
    "# Prepare input sequence\n",
    "sequence_length = 50\n",
    "predictions = []\n",
    "actuals = test_data[sequence_length:]\n",
    "\n",
    "for i in range(sequence_length, len(test_data)):\n",
    "    input_seq = torch.tensor(test_data[i-sequence_length:i], dtype=torch.float32).unsqueeze(0).unsqueeze(-1)\n",
    "    with torch.no_grad():\n",
    "        prediction = model(input_seq).item()\n",
    "    predictions.append(prediction)\n",
    "\n",
    "# Plot results\n",
    "plt.figure(figsize=(12, 6))\n",
    "plt.plot(actuals, label=\"Actual Prices\")\n",
    "plt.plot(predictions, label=\"Predicted Prices\")\n",
    "plt.title(\"Actual vs Predicted Stock Prices\")\n",
    "plt.xlabel(\"Time\")\n",
    "plt.ylabel(\"Price (USD)\")\n",
    "plt.legend()\n",
    "plt.show()\n"
   ]
  },
  {
   "cell_type": "code",
   "execution_count": null,
   "metadata": {},
   "outputs": [],
   "source": [
    "from sklearn.metrics import mean_squared_error\n",
    "import math\n",
    "\n",
    "rmse = math.sqrt(mean_squared_error(actuals, predictions))\n",
    "print(f\"Root Mean Square Error (RMSE): {rmse}\")\n"
   ]
  },
  {
   "cell_type": "code",
   "execution_count": null,
   "metadata": {},
   "outputs": [],
   "source": [
    "\n",
    "'''---\n",
    "\n",
    "### **3. `test_model.py`**\n",
    "```python''' \n",
    "import torch\n",
    "from model import LSTMModel\n",
    "\n",
    "def test_model_forward_pass():\n",
    "    model = LSTMModel(input_size=1, hidden_size=50, num_layers=2, output_size=1)\n",
    "    dummy_input = torch.randn(10, 50, 1)  # Batch size 10, sequence length 50, feature size 1\n",
    "    output = model(dummy_input)\n",
    "    assert output.shape == (10, 1), \"Output shape mismatch\"\n",
    "    print(\"Model forward pass test passed!\")\n",
    "\n",
    "if __name__ == \"__main__\":\n",
    "    test_model_forward_pass()\n"
   ]
  }
 ],
 "metadata": {
  "language_info": {
   "name": "python"
  }
 },
 "nbformat": 4,
 "nbformat_minor": 2
}
